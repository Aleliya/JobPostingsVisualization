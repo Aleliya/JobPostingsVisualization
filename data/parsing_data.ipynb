{
 "cells": [
  {
   "cell_type": "markdown",
   "id": "fa0c3b39",
   "metadata": {},
   "source": [
    "Code for scrape data(job posting) from hh.ru\n",
    "\n",
    "There was lack of data on the chosen profession, so I decided to look at several different fields and compare them.\n",
    "\n",
    "I chose these: data scientist, frontend developer, data analyst, ML engineer, java developer."
   ]
  },
  {
   "cell_type": "code",
   "execution_count": 4,
   "id": "4fb9e87b",
   "metadata": {},
   "outputs": [
    {
     "name": "stdout",
     "output_type": "stream",
     "text": [
      "\n",
      "scrape by query: data scientist\n"
     ]
    },
    {
     "name": "stderr",
     "output_type": "stream",
     "text": [
      "scrape data: data scientist:  53%|█████▎    | 16/30 [00:08<00:07,  1.87it/s]\n",
      "get details: 100%|██████████| 302/302 [01:09<00:00,  4.36it/s]\n"
     ]
    },
    {
     "name": "stdout",
     "output_type": "stream",
     "text": [
      "\n",
      "scrape by query: frontend разработчик\n"
     ]
    },
    {
     "name": "stderr",
     "output_type": "stream",
     "text": [
      "scrape data: frontend разработчик: 100%|██████████| 30/30 [00:15<00:00,  1.95it/s]\n",
      "get details: 100%|██████████| 600/600 [02:29<00:00,  4.02it/s]\n"
     ]
    },
    {
     "name": "stdout",
     "output_type": "stream",
     "text": [
      "\n",
      "scrape by query: data analyst\n"
     ]
    },
    {
     "name": "stderr",
     "output_type": "stream",
     "text": [
      "scrape data: data analyst: 100%|██████████| 30/30 [00:14<00:00,  2.12it/s]\n",
      "get details: 100%|██████████| 600/600 [02:27<00:00,  4.07it/s]\n"
     ]
    },
    {
     "name": "stdout",
     "output_type": "stream",
     "text": [
      "\n",
      "scrape by query: ML engineer\n"
     ]
    },
    {
     "name": "stderr",
     "output_type": "stream",
     "text": [
      "scrape data: ML engineer: 100%|██████████| 30/30 [00:10<00:00,  2.90it/s]\n",
      "get details: 100%|██████████| 589/589 [02:44<00:00,  3.59it/s]\n"
     ]
    },
    {
     "name": "stdout",
     "output_type": "stream",
     "text": [
      "\n",
      "scrape by query: java разработчик\n"
     ]
    },
    {
     "name": "stderr",
     "output_type": "stream",
     "text": [
      "scrape data: java разработчик: 100%|██████████| 30/30 [00:10<00:00,  2.83it/s]\n",
      "get details: 100%|██████████| 600/600 [02:23<00:00,  4.19it/s]\n"
     ]
    },
    {
     "name": "stdout",
     "output_type": "stream",
     "text": [
      "\n",
      "Vacancies collected: 1062 (divided into categories)\n"
     ]
    }
   ],
   "source": [
    "import requests\n",
    "import json\n",
    "import time\n",
    "from tqdm import tqdm\n",
    "\n",
    "def fetch_vacancies(query, area=113, pages=100, per_page=20):\n",
    "    base_url = \"https://api.hh.ru/vacancies\"\n",
    "    headers = {\"User-Agent\": \"JobScraper/1.0\"}\n",
    "    all_vacancies = []\n",
    "\n",
    "    for page in tqdm(range(pages), desc=f\"scrape data: {query}\"):\n",
    "        params = {\n",
    "            \"text\": query,\n",
    "            \"area\": area,\n",
    "            \"page\": page,\n",
    "            \"per_page\": per_page\n",
    "        }\n",
    "        response = requests.get(base_url, headers=headers, params=params)\n",
    "        if response.status_code != 200:\n",
    "            print(f\"error {page}: {response.status_code}\")\n",
    "            break\n",
    "        data = response.json()\n",
    "        vacancies = data.get(\"items\", [])\n",
    "        if not vacancies:\n",
    "            break\n",
    "        all_vacancies.extend(vacancies)\n",
    "        time.sleep(0.1)\n",
    "\n",
    "    return all_vacancies\n",
    "\n",
    "def fetch_vacancy_details(vacancy_ids):\n",
    "    detailed_vacancies = []\n",
    "    for vid in tqdm(vacancy_ids, desc=\"get details\"):\n",
    "        url = f\"https://api.hh.ru/vacancies/{vid}\"\n",
    "        response = requests.get(url)\n",
    "        if response.status_code == 200:\n",
    "            detailed_vacancies.append(response.json())\n",
    "        time.sleep(0.05)\n",
    "    return detailed_vacancies\n",
    "\n",
    "SEARCH_QUERIES = [\n",
    "    \"data scientist\",\n",
    "    \"frontend разработчик\",\n",
    "    \"data analyst\",\n",
    "    \"ML engineer\",\n",
    "    \"java разработчик\"\n",
    "]\n",
    "\n",
    "def main():\n",
    "    categorized_vacancies = {}\n",
    "\n",
    "    for query in SEARCH_QUERIES:\n",
    "        print(f\"\\nscrape by query: {query}\")\n",
    "        vacancies = fetch_vacancies(query=query, area=113, pages=30, per_page=20)\n",
    "        vacancy_ids = [v[\"id\"] for v in vacancies]\n",
    "\n",
    "        details = fetch_vacancy_details(vacancy_ids)\n",
    "        categorized_vacancies[query] = details\n",
    "\n",
    "    with open(\"categorized_vacancies.json\", \"w\", encoding=\"utf-8\") as f:\n",
    "        json.dump(categorized_vacancies, f, ensure_ascii=False, indent=4)\n",
    "\n",
    "    total = sum(len(v) for v in categorized_vacancies.values())\n",
    "    print(f\"\\nVacancies collected: {total} (divided into categories)\")\n",
    "\n",
    "if __name__ == \"__main__\":\n",
    "    main()\n"
   ]
  },
  {
   "cell_type": "markdown",
   "id": "5c7d5a3b",
   "metadata": {},
   "source": [
    "Clean data from branded_description, it is not necessary for my visualization"
   ]
  },
  {
   "cell_type": "code",
   "execution_count": 2,
   "id": "84624463",
   "metadata": {},
   "outputs": [],
   "source": [
    "import json\n",
    "\n",
    "with open('categorized_vacancies.json', 'r', encoding='utf-8') as file:\n",
    "    data = json.load(file)\n",
    "\n",
    "for profession in data.values():\n",
    "    for vacancy in profession:\n",
    "        if \"branded_description\" in vacancy:\n",
    "            del vacancy[\"branded_description\"]\n",
    "\n",
    "with open('clean_categorized_vacancies.json', 'w', encoding='utf-8') as file:\n",
    "    json.dump(data, file, ensure_ascii=False, indent=2)"
   ]
  }
 ],
 "metadata": {
  "kernelspec": {
   "display_name": ".venv",
   "language": "python",
   "name": "python3"
  },
  "language_info": {
   "codemirror_mode": {
    "name": "ipython",
    "version": 3
   },
   "file_extension": ".py",
   "mimetype": "text/x-python",
   "name": "python",
   "nbconvert_exporter": "python",
   "pygments_lexer": "ipython3",
   "version": "3.13.0"
  }
 },
 "nbformat": 4,
 "nbformat_minor": 5
}
